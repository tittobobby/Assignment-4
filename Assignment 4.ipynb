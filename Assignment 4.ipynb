{
 "cells": [
  {
   "cell_type": "code",
   "execution_count": 19,
   "id": "33d0652b",
   "metadata": {},
   "outputs": [
    {
     "name": "stdout",
     "output_type": "stream",
     "text": [
      "Enter the number : 10\n",
      "Required output : 35\n"
     ]
    }
   ],
   "source": [
    "#Write a Python program to create a lambda function that adds 25 to a given number passed in as an argument.\n",
    "\n",
    "\n",
    "result = lambda x : x + 25\n",
    "num = int(input(\"Enter the number : \"))\n",
    "print(f\"Required output : {result(num)}\")\n",
    "\n"
   ]
  },
  {
   "cell_type": "code",
   "execution_count": 16,
   "id": "010a2ab1",
   "metadata": {},
   "outputs": [
    {
     "name": "stdout",
     "output_type": "stream",
     "text": [
      "Enter the elements of list : 1 2 3 4 5 6 7\n",
      "List where all numbers are tripled : [3, 6, 9, 12, 15, 18, 21]\n"
     ]
    }
   ],
   "source": [
    "#Write a Python program to triple all numbers of a given list of integers. Use Python map.\n",
    "\n",
    "user_lst = [int(x) for x in input(\"Enter the elements of list : \").split()]\n",
    "new_lst = list(map(lambda x : x*3, user_lst))\n",
    "print(f\"List where all numbers are tripled : {new_lst}\")\n"
   ]
  },
  {
   "cell_type": "code",
   "execution_count": 17,
   "id": "4d92164f",
   "metadata": {},
   "outputs": [
    {
     "name": "stdout",
     "output_type": "stream",
     "text": [
      "Enter the elements of list : 4 5 2 9\n",
      "List where all numbers are squared : [16, 25, 4, 81]\n"
     ]
    }
   ],
   "source": [
    "#Write a Python program to square the elements of a list using map() function.\n",
    "\n",
    "user_lst = [int(x) for x in input(\"Enter the elements of list : \").split()]\n",
    "new_lst = list(map(lambda x : x**2, user_lst))\n",
    "print(f\"List where all numbers are squared : {new_lst}\")\n",
    "\n"
   ]
  }
 ],
 "metadata": {
  "kernelspec": {
   "display_name": "Python 3 (ipykernel)",
   "language": "python",
   "name": "python3"
  },
  "language_info": {
   "codemirror_mode": {
    "name": "ipython",
    "version": 3
   },
   "file_extension": ".py",
   "mimetype": "text/x-python",
   "name": "python",
   "nbconvert_exporter": "python",
   "pygments_lexer": "ipython3",
   "version": "3.9.12"
  }
 },
 "nbformat": 4,
 "nbformat_minor": 5
}
